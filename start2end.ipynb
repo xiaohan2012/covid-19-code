{
 "cells": [
  {
   "cell_type": "code",
   "execution_count": 2,
   "metadata": {},
   "outputs": [],
   "source": [
    "%matplotlib inline"
   ]
  },
  {
   "cell_type": "code",
   "execution_count": 3,
   "metadata": {},
   "outputs": [],
   "source": [
    "import pickle as pkl\n",
    "import pandas as pd\n",
    "from datetime import  datetime, timedelta\n",
    "from copy import copy\n",
    "\n",
    "from core import  do_simulation\n",
    "from helpers import Params, plot_total, T, data2df, enhance_total, save_to_json, save_bundle, makedir_if_not_there\n",
    "from const import  STATE"
   ]
  },
  {
   "cell_type": "code",
   "execution_count": 4,
   "metadata": {},
   "outputs": [],
   "source": [
    "p0_time = pkl.load(open('output/p0_time.pkl', 'rb'))\n",
    "lockdown_time = T('23/01/2020')"
   ]
  },
  {
   "cell_type": "code",
   "execution_count": 5,
   "metadata": {},
   "outputs": [
    {
     "data": {
      "text/plain": [
       "datetime.datetime(2019, 11, 29, 0, 0)"
      ]
     },
     "execution_count": 5,
     "metadata": {},
     "output_type": "execute_result"
    }
   ],
   "source": [
    "p0_time"
   ]
  },
  {
   "cell_type": "code",
   "execution_count": 6,
   "metadata": {},
   "outputs": [
    {
     "name": "stdout",
     "output_type": "stream",
     "text": [
      "[(0, 3000), (57, 1000), (63, 6000), (67, 1000), (70, 2000), (74, 6000), (80, 11000), (84, 11000)]\n"
     ]
    }
   ],
   "source": [
    "bed_info_raw = [\n",
    "    (p0_time, 3000), # 3000),\n",
    "    (T('25/01/2020'), 1000), # 4000),    \n",
    "    (T('31/01/2020'), 6000), # 10000),\n",
    "    (T('04/02/2020'), 1000), #  11000),\n",
    "    (T('07/02/2020'), 2000), # 13000)\n",
    "    (T('11/02/2020'), 6000),  # 19000\n",
    "    (T('17/02/2020'), 11000),  # 28000\n",
    "    (T('21/02/2020'), 11000),  # 39000\n",
    "]\n",
    "pkl.dump(bed_info_raw, open('data/bed_info_raw.pkl', 'wb'))\n",
    "# number of new beds at  some days\n",
    "bed_info = [((d-p0_time).days, n) for d, n in bed_info_raw]\n",
    "pkl.dump(bed_info, open('data/bed_info.pkl', 'wb'))\n",
    "print(bed_info)"
   ]
  },
  {
   "cell_type": "code",
   "execution_count": 7,
   "metadata": {},
   "outputs": [],
   "source": [
    "params_before = pkl.load(\n",
    "    open('output/params_before_lockdown.pkl', 'rb')\n",
    ")\n",
    "\n",
    "params_after = pkl.load(\n",
    "    open('output/params_after_lockdown.pkl', 'rb')\n",
    ")"
   ]
  },
  {
   "cell_type": "code",
   "execution_count": 8,
   "metadata": {},
   "outputs": [
    {
     "data": {
      "text/plain": [
       "55"
      ]
     },
     "execution_count": 8,
     "metadata": {},
     "output_type": "execute_result"
    }
   ],
   "source": [
    "days_before_ld  = (lockdown_time -  p0_time).days\n",
    "days_before_ld"
   ]
  },
  {
   "cell_type": "code",
   "execution_count": 9,
   "metadata": {},
   "outputs": [],
   "source": [
    "total_days = 360"
   ]
  },
  {
   "cell_type": "code",
   "execution_count": 12,
   "metadata": {},
   "outputs": [
    {
     "data": {
      "text/plain": [
       "[(0, 3.1998106751467885e-08),\n",
       " (55, 1.5999999999999998e-08),\n",
       " (69, 1.5999999999999998e-08),\n",
       " (83, 1.5999999999999998e-08),\n",
       " (97, 1.5999999999999998e-08),\n",
       " (111, 1.5999999999999998e-08),\n",
       " (125, 1.5999999999999998e-08),\n",
       " (139, 1.5999999999999998e-08),\n",
       " (153, 1.5999999999999998e-08),\n",
       " (167, 1.5999999999999998e-08),\n",
       " (181, 1.5999999999999998e-08),\n",
       " (195, 1.5999999999999998e-08)]"
      ]
     },
     "execution_count": 12,
     "metadata": {},
     "output_type": "execute_result"
    }
   ],
   "source": [
    "fine_grained_alpha"
   ]
  },
  {
   "cell_type": "code",
   "execution_count": 13,
   "metadata": {},
   "outputs": [],
   "source": [
    "offset = 14\n",
    "n_offsets = 10\n",
    "days_offsets = list(range(offset, offset*n_offsets+1, offset))\n",
    "fine_grained_alpha = [(0, params_before.alpha), (days_before_ld, params_after.alpha)]\n",
    "fine_grained_alpha += [\n",
    "    (days_before_ld + i, params_after.alpha) for i in days_offsets\n",
    "]\n",
    "fine_grained_beta = [(0, params_before.beta), (days_before_ld, params_after.beta)]\n",
    "fine_grained_beta += [\n",
    "    (days_before_ld + i, params_after.beta) for i in days_offsets\n",
    "]\n"
   ]
  },
  {
   "cell_type": "code",
   "execution_count": 15,
   "metadata": {},
   "outputs": [
    {
     "data": {
      "text/plain": [
       "[55, 69, 83, 97, 111, 125, 139, 153, 167, 181, 195]"
      ]
     },
     "execution_count": 15,
     "metadata": {},
     "output_type": "execute_result"
    }
   ],
   "source": [
    "[days_before_ld] + [(days_before_ld + i) for i in range(offset, offset*n_offsets+1, offset)]"
   ]
  },
  {
   "cell_type": "code",
   "execution_count": 14,
   "metadata": {
    "scrolled": true
   },
   "outputs": [
    {
     "name": "stdout",
     "output_type": "stream",
     "text": [
      "O fraction  0.9903091615741071\n"
     ]
    }
   ],
   "source": [
    "params = Params(\n",
    "    total_population=params_before.total_population,\n",
    "    initial_num_E=params_before.initial_num_E,\n",
    "    initial_num_I=params_before.initial_num_I,\n",
    "    initial_num_M=params_before.initial_num_M,  \n",
    "    mu_ei=params_after.mu_ei,\n",
    "    mu_mo=params_after.mu_mo,\n",
    "    k_days=params_after.k_days,\n",
    "    x0_pt=params_after.x0_pt,\n",
    "    alpha=fine_grained_alpha,\n",
    "    beta=fine_grained_beta,\n",
    "    stages=[days_before_ld] + [(days_before_ld + i) for i in range(offset, offset*n_offsets+1, offset)]\n",
    ")\n",
    "\n",
    "total, delta, increase, trans_data, stats = do_simulation(total_days, bed_info, params, p0_time=p0_time, verbose=0)"
   ]
  },
  {
   "cell_type": "code",
   "execution_count": 12,
   "metadata": {},
   "outputs": [
    {
     "data": {
      "text/plain": [
       "{'R0_by_stage': {0: (5.121404593397314, 3.1765689512236026, 2.729578619522789),\n",
       "  1: (5.812251961952192, 4.647113227364332, 1.9752568949722107),\n",
       "  2: (6.0543687047989, 5.6154952902092745, 2.042111302319967),\n",
       "  3: (6.159777496032194, 1.6224300655891992, 1.9366048822762427),\n",
       "  4: (6.191094588417191, 1.0488580932297462, 1.9236573444849379),\n",
       "  5: (6.193059132673215, 1.0302472924316695, 1.923374677312768),\n",
       "  6: (6.194056760737192, 1.0225464274146328, 1.923284705785702),\n",
       "  7: (6.194647514745376, 1.0187212581204332, 1.9232539387643057),\n",
       "  8: (6.195007962246269, 1.0166454978404902, 1.9232430741865452),\n",
       "  9: (6.195231095115583, 1.015454817229307, 1.9232392374864495),\n",
       "  10: (6.1953702830620045, 1.0147475445325138, 1.9232379305478873),\n",
       "  11: (6.19941918430591, 1.014059930983596, 1.9238094732883468)},\n",
       " 'end_time': None,\n",
       " 'peak_time': (72, '09/02/20'),\n",
       " 'when_dO_gt_dI': (73, '10/02/20'),\n",
       " 'when_dO_gt_dE': (73, '10/02/20'),\n",
       " 'turning_time_real': (79, '16/02/20'),\n",
       " 'turning_time_theory': (84, '21/02/20')}"
      ]
     },
     "execution_count": 12,
     "metadata": {},
     "output_type": "execute_result"
    }
   ],
   "source": [
    "stats"
   ]
  },
  {
   "cell_type": "code",
   "execution_count": 13,
   "metadata": {
    "scrolled": true
   },
   "outputs": [
    {
     "data": {
      "text/plain": [
       "total_population: 9000000\n",
       "initial_num_E: 1\n",
       "initial_num_I: 0\n",
       "initial_num_M: 0\n",
       "\n",
       "alpha: [(0, 3.1998106751467885e-08), (55, 1.5999999999999998e-08), (69, 1.5999999999999998e-08), (83, 1.5999999999999998e-08), (97, 1.5999999999999998e-08), (111, 1.5999999999999998e-08), (125, 1.5999999999999998e-08), (139, 1.5999999999999998e-08), (153, 1.5999999999999998e-08), (167, 1.5999999999999998e-08), (181, 1.5999999999999998e-08), (195, 1.5999999999999998e-08)]\n",
       "beta:  [(0, 3.5997870095401374e-09), (55, 1.8e-09), (69, 1.8e-09), (83, 1.8e-09), (97, 1.8e-09), (111, 1.8e-09), (125, 1.8e-09), (139, 1.8e-09), (153, 1.8e-09), (167, 1.8e-09), (181, 1.8e-09), (195, 1.8e-09)]\n",
       "\n",
       "mu_ei: 6\n",
       "mu_mo: 10\n",
       "\n",
       "x0_pt: 12000\n",
       "k_pt:  0.00014931328910233792\n",
       "mean_IM: 7\n",
       "\n",
       "k_days: 14\n",
       "        "
      ]
     },
     "execution_count": 13,
     "metadata": {},
     "output_type": "execute_result"
    }
   ],
   "source": [
    "params"
   ]
  },
  {
   "cell_type": "code",
   "execution_count": 14,
   "metadata": {},
   "outputs": [
    {
     "data": {
      "text/plain": [
       "{'R0_by_stage': {0: (5.121404593397314, 3.1765689512236026, 2.729578619522789),\n",
       "  1: (5.812251961952192, 4.647113227364332, 1.9752568949722107),\n",
       "  2: (6.0543687047989, 5.6154952902092745, 2.042111302319967),\n",
       "  3: (6.159777496032194, 1.6224300655891992, 1.9366048822762427),\n",
       "  4: (6.191094588417191, 1.0488580932297462, 1.9236573444849379),\n",
       "  5: (6.193059132673215, 1.0302472924316695, 1.923374677312768),\n",
       "  6: (6.194056760737192, 1.0225464274146328, 1.923284705785702),\n",
       "  7: (6.194647514745376, 1.0187212581204332, 1.9232539387643057),\n",
       "  8: (6.195007962246269, 1.0166454978404902, 1.9232430741865452),\n",
       "  9: (6.195231095115583, 1.015454817229307, 1.9232392374864495),\n",
       "  10: (6.1953702830620045, 1.0147475445325138, 1.9232379305478873),\n",
       "  11: (6.19941918430591, 1.014059930983596, 1.9238094732883468)},\n",
       " 'end_time': None,\n",
       " 'peak_time': (72, '09/02/20'),\n",
       " 'when_dO_gt_dI': (73, '10/02/20'),\n",
       " 'when_dO_gt_dE': (73, '10/02/20'),\n",
       " 'turning_time_real': (79, '16/02/20'),\n",
       " 'turning_time_theory': (84, '21/02/20')}"
      ]
     },
     "execution_count": 14,
     "metadata": {},
     "output_type": "execute_result"
    }
   ],
   "source": [
    "stats"
   ]
  },
  {
   "cell_type": "code",
   "execution_count": 15,
   "metadata": {},
   "outputs": [
    {
     "data": {
      "text/plain": [
       "datetime.datetime(2020, 11, 23, 0, 0)"
      ]
     },
     "execution_count": 15,
     "metadata": {},
     "output_type": "execute_result"
    }
   ],
   "source": [
    "p0_time + timedelta(days=total_days)"
   ]
  },
  {
   "cell_type": "code",
   "execution_count": 16,
   "metadata": {
    "scrolled": false
   },
   "outputs": [
    {
     "name": "stderr",
     "output_type": "stream",
     "text": [
      "/home/cloud-user/code/covid-19/helpers.py:287: SettingWithCopyWarning: \n",
      "A value is trying to be set on a copy of a slice from a DataFrame.\n",
      "Try using .loc[row_indexer,col_indexer] = value instead\n",
      "\n",
      "See the caveats in the documentation: http://pandas.pydata.org/pandas-docs/stable/user_guide/indexing.html#returning-a-view-versus-a-copy\n",
      "  subdf['index'] = df.index\n",
      "/home/cloud-user/code/covid-19/helpers.py:288: SettingWithCopyWarning: \n",
      "A value is trying to be set on a copy of a slice from a DataFrame.\n",
      "Try using .loc[row_indexer,col_indexer] = value instead\n",
      "\n",
      "See the caveats in the documentation: http://pandas.pydata.org/pandas-docs/stable/user_guide/indexing.html#returning-a-view-versus-a-copy\n",
      "  subdf['value'] = subdf[state].copy()\n",
      "/home/cloud-user/code/covid-19/helpers.py:290: SettingWithCopyWarning: \n",
      "A value is trying to be set on a copy of a slice from a DataFrame.\n",
      "Try using .loc[row_indexer,col_indexer] = value instead\n",
      "\n",
      "See the caveats in the documentation: http://pandas.pydata.org/pandas-docs/stable/user_guide/indexing.html#returning-a-view-versus-a-copy\n",
      "  subdf['state'] = state\n"
     ]
    },
    {
     "name": "stdout",
     "output_type": "stream",
     "text": [
      "['29/11/19' '09/02/20' '21/04/20' '02/07/20' '12/09/20' '23/11/20']\n"
     ]
    },
    {
     "data": {
      "image/png": "[encoded data removed]",
      "text/plain": [
       "<Figure size 432x288 with 1 Axes>"
      ]
     },
     "metadata": {},
     "output_type": "display_data"
    }
   ],
   "source": [
    "from helpers import plot_total\n",
    "fig, ax = plot_total(total, p0_time, total_days)\n",
    "fig.savefig('figs/start2end.pdf')"
   ]
  },
  {
   "cell_type": "code",
   "execution_count": 2,
   "metadata": {},
   "outputs": [],
   "source": [
    "makedir_if_not_there('output/tbl/start2end')"
   ]
  },
  {
   "cell_type": "code",
   "execution_count": 17,
   "metadata": {},
   "outputs": [],
   "source": [
    "save_bundle([total, delta, increase, trans_data], p0_time, total_days, 'output/tbl/start2end')"
   ]
  },
  {
   "cell_type": "code",
   "execution_count": 18,
   "metadata": {},
   "outputs": [],
   "source": [
    "path = 'output/tbl/start2end/stats.txt'\n",
    "save_to_json(stats, path)"
   ]
  }
 ],
 "metadata": {
  "kernelspec": {
   "display_name": "Python 3",
   "language": "python",
   "name": "python3"
  },
  "language_info": {
   "codemirror_mode": {
    "name": "ipython",
    "version": 3
   },
   "file_extension": ".py",
   "mimetype": "text/x-python",
   "name": "python",
   "nbconvert_exporter": "python",
   "pygments_lexer": "ipython3",
   "version": "3.6.13"
  }
 },
 "nbformat": 4,
 "nbformat_minor": 2
}

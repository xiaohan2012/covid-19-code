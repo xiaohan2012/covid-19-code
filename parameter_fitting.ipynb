{
 "cells": [
  {
   "cell_type": "code",
   "execution_count": 1,
   "metadata": {},
   "outputs": [],
   "source": [
    "%matplotlib inline"
   ]
  },
  {
   "cell_type": "code",
   "execution_count": 2,
   "metadata": {},
   "outputs": [],
   "source": [
    "import numpy as np\n",
    "import pandas as pd\n",
    "import pickle as pkl\n",
    "\n",
    "from datetime import timedelta\n",
    "from itertools import product\n",
    "from sklearn.metrics import mean_squared_error, mean_absolute_error\n",
    "from tqdm import tqdm\n",
    "from matplotlib import pyplot as plt\n",
    "from joblib import delayed, Parallel\n",
    "\n",
    "\n",
    "from core import  do_simulation\n",
    "from helpers import Params, T, get_T1_and_T2, R0, makedir_if_not_there\n",
    "from const import STATE, COLORS, NUM_STATES,  STATES\n"
   ]
  },
  {
   "cell_type": "code",
   "execution_count": 3,
   "metadata": {},
   "outputs": [],
   "source": [
    "df = pd.read_csv('data/wuhan.csv', sep=',')\n",
    "df['date'] = df['date'].apply(T)"
   ]
  },
  {
   "cell_type": "code",
   "execution_count": 4,
   "metadata": {},
   "outputs": [],
   "source": [
    "### ATTENTION\n",
    "# start and end date of date being  fitted\n",
    "start_date = T('27/01/2020')  # T=0\n",
    "end_date = T('09/02/2020')  #09/02"
   ]
  },
  {
   "cell_type": "code",
   "execution_count": 5,
   "metadata": {},
   "outputs": [],
   "source": [
    "subdf = df[(df['date'] > start_date) & (df['date'] < end_date)] \n",
    "\n",
    "I_true = subdf['infected'].values\n",
    "O_true = subdf['death'].values + subdf['cured'].values"
   ]
  },
  {
   "cell_type": "code",
   "execution_count": 6,
   "metadata": {},
   "outputs": [
    {
     "data": {
      "text/plain": [
       "[(0, 4000), (4, 6000), (8, 1000), (11, 2000)]"
      ]
     },
     "execution_count": 6,
     "metadata": {},
     "output_type": "execute_result"
    }
   ],
   "source": [
    "### ATTENTION\n",
    "#  below is the number of new beds on  some days\n",
    "#  it  is increment, not  total number\n",
    "total_days = subdf.shape[0]\n",
    "bed_info_raw = [\n",
    "    (T('27/01/2020'), 4000),\n",
    "    (T('31/01/2020'), 6000), # 10000),\n",
    "    (T('04/02/2020'), 1000), # 11000),\n",
    "    (T('07/02/2020'), 2000), # 13000)\n",
    "    (T('11/02/2020'), 6000),  # 19000\n",
    "    (T('17/02/2020'), 1000),  # 20000\n",
    "]\n",
    "# number of new beds at  some days\n",
    "bed_info = [((d-start_date).days, n) for d, n in bed_info_raw if d < end_date]\n",
    "bed_info"
   ]
  },
  {
   "cell_type": "code",
   "execution_count": 7,
   "metadata": {
    "scrolled": true
   },
   "outputs": [
    {
     "name": "stderr",
     "output_type": "stream",
     "text": [
      "  1%|          | 168/18144 [00:12<18:09, 16.50it/s]"
     ]
    },
    {
     "ename": "KeyboardInterrupt",
     "evalue": "",
     "output_type": "error",
     "traceback": [
      "\u001b[0;31m---------------------------------------------------------------------------\u001b[0m",
      "\u001b[0;31mKeyboardInterrupt\u001b[0m                         Traceback (most recent call last)",
      "\u001b[0;32m<ipython-input-7-530a62666371>\u001b[0m in \u001b[0;36m<module>\u001b[0;34m\u001b[0m\n\u001b[1;32m     73\u001b[0m             \u001b[0mnum_I_list\u001b[0m\u001b[0;34m,\u001b[0m \u001b[0mI2E_factors\u001b[0m\u001b[0;34m,\u001b[0m \u001b[0mI2M_factors\u001b[0m\u001b[0;34m,\u001b[0m \u001b[0malpha_beta_choices\u001b[0m\u001b[0;34m,\u001b[0m\u001b[0;34m\u001b[0m\u001b[0;34m\u001b[0m\u001b[0m\n\u001b[1;32m     74\u001b[0m             \u001b[0mmu_ei_list\u001b[0m\u001b[0;34m,\u001b[0m \u001b[0mmu_mo_list\u001b[0m\u001b[0;34m,\u001b[0m \u001b[0mk_days_list\u001b[0m\u001b[0;34m,\u001b[0m \u001b[0mx0_pt_list\u001b[0m\u001b[0;34m\u001b[0m\u001b[0;34m\u001b[0m\u001b[0m\n\u001b[0;32m---> 75\u001b[0;31m         ), total=total_num_configs\n\u001b[0m\u001b[1;32m     76\u001b[0m     )\n\u001b[1;32m     77\u001b[0m )\n",
      "\u001b[0;32m/usr/local/lib/python3.6/dist-packages/joblib/parallel.py\u001b[0m in \u001b[0;36m__call__\u001b[0;34m(self, iterable)\u001b[0m\n\u001b[1;32m   1015\u001b[0m \u001b[0;34m\u001b[0m\u001b[0m\n\u001b[1;32m   1016\u001b[0m             \u001b[0;32mwith\u001b[0m \u001b[0mself\u001b[0m\u001b[0;34m.\u001b[0m\u001b[0m_backend\u001b[0m\u001b[0;34m.\u001b[0m\u001b[0mretrieval_context\u001b[0m\u001b[0;34m(\u001b[0m\u001b[0;34m)\u001b[0m\u001b[0;34m:\u001b[0m\u001b[0;34m\u001b[0m\u001b[0;34m\u001b[0m\u001b[0m\n\u001b[0;32m-> 1017\u001b[0;31m                 \u001b[0mself\u001b[0m\u001b[0;34m.\u001b[0m\u001b[0mretrieve\u001b[0m\u001b[0;34m(\u001b[0m\u001b[0;34m)\u001b[0m\u001b[0;34m\u001b[0m\u001b[0;34m\u001b[0m\u001b[0m\n\u001b[0m\u001b[1;32m   1018\u001b[0m             \u001b[0;31m# Make sure that we get a last message telling us we are done\u001b[0m\u001b[0;34m\u001b[0m\u001b[0;34m\u001b[0m\u001b[0;34m\u001b[0m\u001b[0m\n\u001b[1;32m   1019\u001b[0m             \u001b[0melapsed_time\u001b[0m \u001b[0;34m=\u001b[0m \u001b[0mtime\u001b[0m\u001b[0;34m.\u001b[0m\u001b[0mtime\u001b[0m\u001b[0;34m(\u001b[0m\u001b[0;34m)\u001b[0m \u001b[0;34m-\u001b[0m \u001b[0mself\u001b[0m\u001b[0;34m.\u001b[0m\u001b[0m_start_time\u001b[0m\u001b[0;34m\u001b[0m\u001b[0;34m\u001b[0m\u001b[0m\n",
      "\u001b[0;32m/usr/local/lib/python3.6/dist-packages/joblib/parallel.py\u001b[0m in \u001b[0;36mretrieve\u001b[0;34m(self)\u001b[0m\n\u001b[1;32m    907\u001b[0m             \u001b[0;32mtry\u001b[0m\u001b[0;34m:\u001b[0m\u001b[0;34m\u001b[0m\u001b[0;34m\u001b[0m\u001b[0m\n\u001b[1;32m    908\u001b[0m                 \u001b[0;32mif\u001b[0m \u001b[0mgetattr\u001b[0m\u001b[0;34m(\u001b[0m\u001b[0mself\u001b[0m\u001b[0;34m.\u001b[0m\u001b[0m_backend\u001b[0m\u001b[0;34m,\u001b[0m \u001b[0;34m'supports_timeout'\u001b[0m\u001b[0;34m,\u001b[0m \u001b[0;32mFalse\u001b[0m\u001b[0;34m)\u001b[0m\u001b[0;34m:\u001b[0m\u001b[0;34m\u001b[0m\u001b[0;34m\u001b[0m\u001b[0m\n\u001b[0;32m--> 909\u001b[0;31m                     \u001b[0mself\u001b[0m\u001b[0;34m.\u001b[0m\u001b[0m_output\u001b[0m\u001b[0;34m.\u001b[0m\u001b[0mextend\u001b[0m\u001b[0;34m(\u001b[0m\u001b[0mjob\u001b[0m\u001b[0;34m.\u001b[0m\u001b[0mget\u001b[0m\u001b[0;34m(\u001b[0m\u001b[0mtimeout\u001b[0m\u001b[0;34m=\u001b[0m\u001b[0mself\u001b[0m\u001b[0;34m.\u001b[0m\u001b[0mtimeout\u001b[0m\u001b[0;34m)\u001b[0m\u001b[0;34m)\u001b[0m\u001b[0;34m\u001b[0m\u001b[0;34m\u001b[0m\u001b[0m\n\u001b[0m\u001b[1;32m    910\u001b[0m                 \u001b[0;32melse\u001b[0m\u001b[0;34m:\u001b[0m\u001b[0;34m\u001b[0m\u001b[0;34m\u001b[0m\u001b[0m\n\u001b[1;32m    911\u001b[0m                     \u001b[0mself\u001b[0m\u001b[0;34m.\u001b[0m\u001b[0m_output\u001b[0m\u001b[0;34m.\u001b[0m\u001b[0mextend\u001b[0m\u001b[0;34m(\u001b[0m\u001b[0mjob\u001b[0m\u001b[0;34m.\u001b[0m\u001b[0mget\u001b[0m\u001b[0;34m(\u001b[0m\u001b[0;34m)\u001b[0m\u001b[0;34m)\u001b[0m\u001b[0;34m\u001b[0m\u001b[0;34m\u001b[0m\u001b[0m\n",
      "\u001b[0;32m/usr/local/lib/python3.6/dist-packages/joblib/_parallel_backends.py\u001b[0m in \u001b[0;36mwrap_future_result\u001b[0;34m(future, timeout)\u001b[0m\n\u001b[1;32m    560\u001b[0m         AsyncResults.get from multiprocessing.\"\"\"\n\u001b[1;32m    561\u001b[0m         \u001b[0;32mtry\u001b[0m\u001b[0;34m:\u001b[0m\u001b[0;34m\u001b[0m\u001b[0;34m\u001b[0m\u001b[0m\n\u001b[0;32m--> 562\u001b[0;31m             \u001b[0;32mreturn\u001b[0m \u001b[0mfuture\u001b[0m\u001b[0;34m.\u001b[0m\u001b[0mresult\u001b[0m\u001b[0;34m(\u001b[0m\u001b[0mtimeout\u001b[0m\u001b[0;34m=\u001b[0m\u001b[0mtimeout\u001b[0m\u001b[0;34m)\u001b[0m\u001b[0;34m\u001b[0m\u001b[0;34m\u001b[0m\u001b[0m\n\u001b[0m\u001b[1;32m    563\u001b[0m         \u001b[0;32mexcept\u001b[0m \u001b[0mLokyTimeoutError\u001b[0m\u001b[0;34m:\u001b[0m\u001b[0;34m\u001b[0m\u001b[0;34m\u001b[0m\u001b[0m\n\u001b[1;32m    564\u001b[0m             \u001b[0;32mraise\u001b[0m \u001b[0mTimeoutError\u001b[0m\u001b[0;34m(\u001b[0m\u001b[0;34m)\u001b[0m\u001b[0;34m\u001b[0m\u001b[0;34m\u001b[0m\u001b[0m\n",
      "\u001b[0;32m/usr/lib/python3.6/concurrent/futures/_base.py\u001b[0m in \u001b[0;36mresult\u001b[0;34m(self, timeout)\u001b[0m\n\u001b[1;32m    425\u001b[0m                 \u001b[0;32mreturn\u001b[0m \u001b[0mself\u001b[0m\u001b[0;34m.\u001b[0m\u001b[0m__get_result\u001b[0m\u001b[0;34m(\u001b[0m\u001b[0;34m)\u001b[0m\u001b[0;34m\u001b[0m\u001b[0;34m\u001b[0m\u001b[0m\n\u001b[1;32m    426\u001b[0m \u001b[0;34m\u001b[0m\u001b[0m\n\u001b[0;32m--> 427\u001b[0;31m             \u001b[0mself\u001b[0m\u001b[0;34m.\u001b[0m\u001b[0m_condition\u001b[0m\u001b[0;34m.\u001b[0m\u001b[0mwait\u001b[0m\u001b[0;34m(\u001b[0m\u001b[0mtimeout\u001b[0m\u001b[0;34m)\u001b[0m\u001b[0;34m\u001b[0m\u001b[0;34m\u001b[0m\u001b[0m\n\u001b[0m\u001b[1;32m    428\u001b[0m \u001b[0;34m\u001b[0m\u001b[0m\n\u001b[1;32m    429\u001b[0m             \u001b[0;32mif\u001b[0m \u001b[0mself\u001b[0m\u001b[0;34m.\u001b[0m\u001b[0m_state\u001b[0m \u001b[0;32min\u001b[0m \u001b[0;34m[\u001b[0m\u001b[0mCANCELLED\u001b[0m\u001b[0;34m,\u001b[0m \u001b[0mCANCELLED_AND_NOTIFIED\u001b[0m\u001b[0;34m]\u001b[0m\u001b[0;34m:\u001b[0m\u001b[0;34m\u001b[0m\u001b[0;34m\u001b[0m\u001b[0m\n",
      "\u001b[0;32m/usr/lib/python3.6/threading.py\u001b[0m in \u001b[0;36mwait\u001b[0;34m(self, timeout)\u001b[0m\n\u001b[1;32m    293\u001b[0m         \u001b[0;32mtry\u001b[0m\u001b[0;34m:\u001b[0m    \u001b[0;31m# restore state no matter what (e.g., KeyboardInterrupt)\u001b[0m\u001b[0;34m\u001b[0m\u001b[0;34m\u001b[0m\u001b[0m\n\u001b[1;32m    294\u001b[0m             \u001b[0;32mif\u001b[0m \u001b[0mtimeout\u001b[0m \u001b[0;32mis\u001b[0m \u001b[0;32mNone\u001b[0m\u001b[0;34m:\u001b[0m\u001b[0;34m\u001b[0m\u001b[0;34m\u001b[0m\u001b[0m\n\u001b[0;32m--> 295\u001b[0;31m                 \u001b[0mwaiter\u001b[0m\u001b[0;34m.\u001b[0m\u001b[0macquire\u001b[0m\u001b[0;34m(\u001b[0m\u001b[0;34m)\u001b[0m\u001b[0;34m\u001b[0m\u001b[0;34m\u001b[0m\u001b[0m\n\u001b[0m\u001b[1;32m    296\u001b[0m                 \u001b[0mgotit\u001b[0m \u001b[0;34m=\u001b[0m \u001b[0;32mTrue\u001b[0m\u001b[0;34m\u001b[0m\u001b[0;34m\u001b[0m\u001b[0m\n\u001b[1;32m    297\u001b[0m             \u001b[0;32melse\u001b[0m\u001b[0;34m:\u001b[0m\u001b[0;34m\u001b[0m\u001b[0;34m\u001b[0m\u001b[0m\n",
      "\u001b[0;31mKeyboardInterrupt\u001b[0m: "
     ]
    }
   ],
   "source": [
    "#### ATTENTION\n",
    "#  below are the parameter search ranges\n",
    "# alpha_list = np.arange(0.1,  1.91,  step=0.1) * 1e-08\n",
    "# beta_list = np.arange(0.1,  1.91,  step=0.1) * 1e-09\n",
    "\n",
    "alpha_list = 1 / np.power(10, np.arange(7, 11, 1))\n",
    "beta_list = 1 / np.power(10, np.arange(7, 11, 1))\n",
    "\n",
    "# assumption: alpha > beta\n",
    "alpha_beta_choices = [\n",
    "    (alpha,  beta)\n",
    "    for alpha, beta in product(alpha_list, beta_list)\n",
    "    if alpha > beta\n",
    "] \n",
    "num_I_list = np.arange(5000, 10001, step=1000)\n",
    "I2E_factors = [1., 1.5, 2]\n",
    "I2M_factors = [0.25, 0.5, 1.0]\n",
    "\n",
    "k_days_list = np.arange(8, 31, 3)\n",
    "x0_pt_list = np.arange(3000, 21001, 3000)\n",
    "mu_ei_list = [6] \n",
    "mu_mo_list = [14]\n",
    "\n",
    "def one_run(initial_num_I, I2E_factor, I2M_factor, alpha, beta, mu_ei, mu_mo, k_days, x0_pt):\n",
    "    initial_num_E = initial_num_I * I2E_factor\n",
    "    initial_num_M = initial_num_I * I2M_factor\n",
    "    initial_num_M = min(bed_info[0][1], initial_num_M)\n",
    "    \n",
    "    params = Params(\n",
    "        initial_num_I=initial_num_I,\n",
    "        initial_num_E=initial_num_E,\n",
    "        initial_num_M=initial_num_M,\n",
    "        alpha=alpha,\n",
    "        beta=beta,\n",
    "        mu_ei=mu_ei,\n",
    "        mu_mo=mu_mo,\n",
    "        k_days=k_days,        \n",
    "    )\n",
    "    total, delta, increase, trans_data, ax = do_simulation(\n",
    "        total_days+3, bed_info, params, p0_time=start_date\n",
    "    )\n",
    "    \n",
    "    I_mae = mean_absolute_error(I_true, increase[1:(total_days+1), STATE.I])\n",
    "    O_mae = mean_absolute_error(O_true, increase[1:(total_days+1), STATE.O])\n",
    "\n",
    "    \n",
    "    is_decreasing_after_Feb09 = True\n",
    "    for i in range((T('09/02/2020') - start_date).days, total.shape[0]-1):\n",
    "        if total[i, STATE.I] < total[i+1, STATE.I]:\n",
    "            is_decreasing_after_Feb09 = False\n",
    "    row = (\n",
    "        initial_num_I, initial_num_E, initial_num_M,\n",
    "        alpha, beta, k_days, mu_ei, mu_mo,\n",
    "        I_mae,  O_mae, is_decreasing_after_Feb09\n",
    "    )\n",
    "    return row\n",
    "    \n",
    "total_num_configs = (\n",
    "    len(num_I_list) \n",
    "    * len(alpha_beta_choices) \n",
    "    * len(I2E_factors) \n",
    "    * len(mu_ei_list) \n",
    "    * len(mu_mo_list) \n",
    "    * len(I2M_factors)\n",
    "    * len(k_days_list)\n",
    "    * len(x0_pt_list)\n",
    ")\n",
    "\n",
    "rows = Parallel(n_jobs=-1)(\n",
    "    delayed(one_run)(num_I, I2E_factor, I2M_factor, alpha, beta, mu_ei, mu_mo, k_days, x0_pt)\n",
    "    for num_I, I2E_factor, I2M_factor, (alpha,  beta), mu_ei, mu_mo, k_days, x0_pt in tqdm(\n",
    "        product(\n",
    "            num_I_list, I2E_factors, I2M_factors, alpha_beta_choices,\n",
    "            mu_ei_list, mu_mo_list, k_days_list, x0_pt_list\n",
    "        ), total=total_num_configs\n",
    "    )\n",
    ")"
   ]
  },
  {
   "cell_type": "code",
   "execution_count": null,
   "metadata": {},
   "outputs": [],
   "source": [
    "res_df = pd.DataFrame(\n",
    "    rows,\n",
    "    columns=['initial_num_I', 'initial_num_E', 'initial_num_M', 'alpha', 'beta',\n",
    "             'k_days',\n",
    "             'mu_ei', 'mu_mo',\n",
    "             'I_mae', 'O_mae', 'is_feasible']\n",
    ")"
   ]
  },
  {
   "cell_type": "code",
   "execution_count": null,
   "metadata": {},
   "outputs": [],
   "source": [
    "\n",
    "br = res_df[res_df['is_feasible']].sort_values(by='I_mae').iloc[0]\n",
    "br"
   ]
  },
  {
   "cell_type": "code",
   "execution_count": 9,
   "metadata": {},
   "outputs": [],
   "source": [
    "makedir_if_not_there('figs/')\n",
    "makedir_if_not_there('output/tbl/parameter_fitting')"
   ]
  },
  {
   "cell_type": "code",
   "execution_count": null,
   "metadata": {
    "scrolled": false
   },
   "outputs": [],
   "source": [
    "# number of new beds at  some days\n",
    "bed_info = [((d-start_date).days, n) for d, n in bed_info_raw if d <= end_date]\n",
    "bed_info\n",
    "\n",
    "params = Params(\n",
    "    initial_num_I=br.initial_num_I, \n",
    "    initial_num_E=br.initial_num_E,\n",
    "    initial_num_M=br.initial_num_M,\n",
    "    alpha=br.alpha, beta=br.beta,\n",
    "    mu_ei=br.mu_ei, mu_mo=br.mu_mo,\n",
    "    k_days=int(br.k_days),\n",
    "    x0_pt=br.x0_pt\n",
    ")\n",
    "total, delta, increase, trans_data, aux = do_simulation(\n",
    "    total_days+60,\n",
    "    bed_info, params, p0_time=start_date\n",
    ")\n",
    "\n",
    "I_true_all = df[(df['date'] > start_date)] ['infected'].values\n",
    "I_pred_all = increase[1:len(I_true_all)+1, STATE.I]\n",
    "\n",
    "fig, ax = plt.subplots(1, 1)\n",
    "\n",
    "ax.plot(I_pred_all, 's-', color='red')\n",
    "ax.plot(I_true_all, '-.', color='blue')\n",
    "fig.legend(['predicted I (increase)', 'actual I (increase)'], loc='best')\n",
    "fig.savefig('figs/true_I_vs_pred_I.pdf')\n",
    "\n",
    "\n",
    "\n",
    "\n"
   ]
  },
  {
   "cell_type": "code",
   "execution_count": null,
   "metadata": {},
   "outputs": [],
   "source": [
    "I_pred = increase[1:(len(I_true)+1), STATE.I]\n",
    "dates = pd.date_range(start_date+timedelta(days=1), end_date+timedelta(days=2))\n",
    "data = {\n",
    "    'date': dates,\n",
    "    'true_I': I_true_all,\n",
    "    'pred_I': I_pred_all,\n",
    "    'abs_error': np.abs(I_true_all - I_pred_all),\n",
    "    'squared_error': np.power(I_true_all - I_pred_all, 2),\n",
    "    'used_in_fitting': [(d >= start_date) & (d <= end_date) for d in dates]\n",
    "}\n",
    "\n",
    "fit_df = pd.DataFrame.from_dict(data)\n",
    "fit_df.to_csv('output/tbl/parameter_fitting/daily-data.csv', index=None)"
   ]
  },
  {
   "cell_type": "code",
   "execution_count": null,
   "metadata": {},
   "outputs": [],
   "source": [
    "print(params)"
   ]
  },
  {
   "cell_type": "code",
   "execution_count": null,
   "metadata": {},
   "outputs": [],
   "source": [
    "pkl.dump(\n",
    "    params,\n",
    "    open('output/params_after_lockdown.pkl', 'wb')\n",
    ")"
   ]
  },
  {
   "cell_type": "code",
   "execution_count": null,
   "metadata": {},
   "outputs": [],
   "source": [
    "np.exp(1)"
   ]
  }
 ],
 "metadata": {
  "kernelspec": {
   "display_name": "Python 3",
   "language": "python",
   "name": "python3"
  },
  "language_info": {
   "codemirror_mode": {
    "name": "ipython",
    "version": 3
   },
   "file_extension": ".py",
   "mimetype": "text/x-python",
   "name": "python",
   "nbconvert_exporter": "python",
   "pygments_lexer": "ipython3",
   "version": "3.6.10"
  }
 },
 "nbformat": 4,
 "nbformat_minor": 2
}

{
 "cells": [
  {
   "cell_type": "code",
   "execution_count": 10,
   "metadata": {},
   "outputs": [],
   "source": [
    "%matplotlib inline"
   ]
  },
  {
   "cell_type": "code",
   "execution_count": 11,
   "metadata": {},
   "outputs": [],
   "source": [
    "import numpy as np\n",
    "import pandas as pd\n",
    "import pickle as pkl\n",
    "from itertools import product\n",
    "from sklearn.metrics import mean_squared_error, mean_absolute_error\n",
    "from tqdm import tqdm\n",
    "from matplotlib import pyplot as plt\n",
    "from datetime import timedelta, datetime\n",
    "from joblib import delayed, Parallel\n",
    "from copy import copy\n",
    "\n",
    "from core import  do_simulation\n",
    "from helpers import Params, T, get_T1_and_T2, R0, plot_total, DATE_FORMAT, total_to_csv, save_bundle, save_to_json, makedir_if_not_there\n",
    "\n",
    "from const import STATE, COLORS, NUM_STATES,  STATES\n"
   ]
  },
  {
   "cell_type": "code",
   "execution_count": 12,
   "metadata": {},
   "outputs": [
    {
     "data": {
      "text/plain": [
       "1.770415654913046"
      ]
     },
     "execution_count": 12,
     "metadata": {},
     "output_type": "execute_result"
    }
   ],
   "source": [
    "trans_2019 = np.array([3.73, 3.51, 4.3, 4.46, 4.27, 4.34, 4.42, 3.7, 3.45, 4.2, 4.14, 4.13, 4.29, 4.15, 3.49, 3.27, 3.95, 3.81, 3.59, 3.55, 3.09, 2.85, 2.32, 1.99, 2.03, 2.0, 1.89, 1.91, 1.99, 2.17, 2.94, 3.32, 3.56, 3.66, 3.64, 3.16, 3.09, 3.98, 3.82, 4.01, 4.05, 4.27, 3.69, 3.54, 4.34, 4.28, 4.38, 4.62, 4.7, 3.92, 3.83, 4.5, 4.55, 4.51, 4.73, 4.03, 3.9, 4.59, 4.63, 4.65])\n",
    "tran_coef_after_ld = np.array([0.66 ,0.67 ,0.68 ,0.66 ,0.69 ,0.69 ,0.66 ,0.69 ,0.68 ,0.67 ,0.60 ,0.62 ,0.61 ,0.62 ,0.62 ,0.61 ,0.60 ,0.62 ,0.67 ,0.60 ,0.58 ,0.59 ,0.58 ,0.57 ,0.59 ,0.60 ,0.57 ])\n",
    "infection_factor = np.mean(trans_2019) / np.mean(tran_coef_after_ld)\n",
    "infection_factor = np.log(infection_factor)\n",
    "infection_factor\n"
   ]
  },
  {
   "cell_type": "code",
   "execution_count": 13,
   "metadata": {},
   "outputs": [],
   "source": [
    "params_jan27 = pkl.load(\n",
    "    open('output/params_after_lockdown.pkl', 'rb')\n",
    ")"
   ]
  },
  {
   "cell_type": "code",
   "execution_count": 14,
   "metadata": {},
   "outputs": [],
   "source": [
    "params_before = pkl.load(\n",
    "    open('output/params_before_lockdown.pkl', 'rb')\n",
    ")\n",
    "\n",
    "params_after = pkl.load(\n",
    "    open('output/params_after_lockdown.pkl', 'rb')\n",
    ")\n",
    "\n"
   ]
  },
  {
   "cell_type": "code",
   "execution_count": 15,
   "metadata": {},
   "outputs": [],
   "source": [
    "p0_time = pkl.load(open('output/p0_time.pkl', 'rb'))\n",
    "p0_time = datetime(year=2018,  month=p0_time.month, day=p0_time.day)\n",
    "bed_info = [\n",
    "    (0, 3000), # 3000),\n",
    "]"
   ]
  },
  {
   "cell_type": "code",
   "execution_count": 16,
   "metadata": {},
   "outputs": [],
   "source": [
    "params = copy(params_jan27)\n",
    "params.alpha = infection_factor * params_jan27.alpha\n",
    "params.beta = infection_factor * params_jan27.beta\n",
    "params.initial_num_E = 1\n",
    "params.initial_num_I = 0\n",
    "params.initial_num_M = 0\n"
   ]
  },
  {
   "cell_type": "code",
   "execution_count": 17,
   "metadata": {
    "scrolled": true
   },
   "outputs": [],
   "source": [
    "total, delta, increase, trans, stats = do_simulation(360, bed_info, params, verbose=0,  p0_time=p0_time)"
   ]
  },
  {
   "cell_type": "code",
   "execution_count": 18,
   "metadata": {},
   "outputs": [
    {
     "data": {
      "text/plain": [
       "{'R0_by_stage': {0: (6.001509535275191,\n",
       "   14.945419037023832,\n",
       "   3.6145075623769465)},\n",
       " 'end_time': None,\n",
       " 'peak_time': (127, '05/04/19'),\n",
       " 'when_dO_gt_dI': (128, '06/04/19'),\n",
       " 'when_dO_gt_dE': (126, '04/04/19'),\n",
       " 'turning_time_real': (133, '11/04/19'),\n",
       " 'turning_time_theory': (135, '13/04/19')}"
      ]
     },
     "execution_count": 18,
     "metadata": {},
     "output_type": "execute_result"
    }
   ],
   "source": [
    "stats"
   ]
  },
  {
   "cell_type": "code",
   "execution_count": 19,
   "metadata": {},
   "outputs": [],
   "source": [
    "makedir_if_not_there('output/tbl/last-year/')\n",
    "save_bundle([total, delta, increase, trans], p0_time, 360, f'output/tbl/last-year/')\n",
    "save_to_json(stats, f'output/tbl/last-year/stats.txt')    "
   ]
  },
  {
   "cell_type": "code",
   "execution_count": 20,
   "metadata": {
    "scrolled": true
   },
   "outputs": [
    {
     "name": "stderr",
     "output_type": "stream",
     "text": [
      "/home/cloud-user/code/covid-19/helpers.py:287: SettingWithCopyWarning: \n",
      "A value is trying to be set on a copy of a slice from a DataFrame.\n",
      "Try using .loc[row_indexer,col_indexer] = value instead\n",
      "\n",
      "See the caveats in the documentation: http://pandas.pydata.org/pandas-docs/stable/user_guide/indexing.html#returning-a-view-versus-a-copy\n",
      "  subdf['index'] = df.index\n",
      "/home/cloud-user/code/covid-19/helpers.py:288: SettingWithCopyWarning: \n",
      "A value is trying to be set on a copy of a slice from a DataFrame.\n",
      "Try using .loc[row_indexer,col_indexer] = value instead\n",
      "\n",
      "See the caveats in the documentation: http://pandas.pydata.org/pandas-docs/stable/user_guide/indexing.html#returning-a-view-versus-a-copy\n",
      "  subdf['value'] = subdf[state].copy()\n",
      "/home/cloud-user/code/covid-19/helpers.py:290: SettingWithCopyWarning: \n",
      "A value is trying to be set on a copy of a slice from a DataFrame.\n",
      "Try using .loc[row_indexer,col_indexer] = value instead\n",
      "\n",
      "See the caveats in the documentation: http://pandas.pydata.org/pandas-docs/stable/user_guide/indexing.html#returning-a-view-versus-a-copy\n",
      "  subdf['state'] = state\n"
     ]
    },
    {
     "name": "stdout",
     "output_type": "stream",
     "text": [
      "['29/11/18' '09/02/19' '22/04/19' '03/07/19' '13/09/19' '24/11/19']\n"
     ]
    },
    {
     "data": {
      "image/png": "[encoded data removed]",
      "text/plain": [
       "<Figure size 432x288 with 1 Axes>"
      ]
     },
     "metadata": {},
     "output_type": "display_data"
    }
   ],
   "source": [
    "fig, ax = plot_total(total, p0_time,  360)\n",
    "fig\n",
    "fig.savefig('figs/simulation-last-year.pdf')"
   ]
  }
 ],
 "metadata": {
  "kernelspec": {
   "display_name": "Python 3",
   "language": "python",
   "name": "python3"
  },
  "language_info": {
   "codemirror_mode": {
    "name": "ipython",
    "version": 3
   },
   "file_extension": ".py",
   "mimetype": "text/x-python",
   "name": "python",
   "nbconvert_exporter": "python",
   "pygments_lexer": "ipython3",
   "version": "3.6.10"
  }
 },
 "nbformat": 4,
 "nbformat_minor": 2
}

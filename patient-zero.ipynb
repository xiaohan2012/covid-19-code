{
 "cells": [
  {
   "cell_type": "code",
   "execution_count": 2,
   "metadata": {},
   "outputs": [],
   "source": [
    "%matplotlib inline"
   ]
  },
  {
   "cell_type": "code",
   "execution_count": 3,
   "metadata": {},
   "outputs": [],
   "source": [
    "import numpy as np\n",
    "import pandas as pd\n",
    "import pickle as pkl\n",
    "from itertools import product\n",
    "from sklearn.metrics import mean_squared_error, mean_absolute_error\n",
    "from tqdm import tqdm\n",
    "from matplotlib import pyplot as plt\n",
    "from datetime import timedelta\n",
    "from joblib import delayed, Parallel\n",
    "from copy import copy\n",
    "\n",
    "from core import  do_simulation\n",
    "from helpers import Params, T, get_T1_and_T2, R0, plot_total, save_bundle, save_to_json, makedir_if_not_there\n",
    "\n",
    "from const import STATE, COLORS, NUM_STATES,  STATES\n"
   ]
  },
  {
   "cell_type": "code",
   "execution_count": 3,
   "metadata": {},
   "outputs": [
    {
     "data": {
      "text/plain": [
       "1.999881671966743"
      ]
     },
     "execution_count": 3,
     "metadata": {},
     "output_type": "execute_result"
    }
   ],
   "source": [
    "tran_coef_before = np.array([4.28, 5.28, 5.33, 4.38, 4.13, 5.27, 5.28, 5.32, 5.15, 5.22, 4.46, 4.20, 5.17, 5.11, 4.91, 4.92, 4.87, 4.04, 4.32, 4.22 , 3.60, 2.88])\n",
    "tran_coef_after = np.array([0.66 ,0.67 ,0.68 ,0.66 ,0.69 ,0.69 ,0.66 ,0.69 ,0.68 ,0.67 ,0.60 ,0.62 ,0.61 ,0.62 ,0.62 ,0.61 ,0.60 ,0.62 ,0.67 ,0.60 ,0.58 ,0.59 ,0.58 ,0.57 ,0.59 ,0.60 ,0.57 ])\n",
    "infection_factor = np.mean(tran_coef_before) / np.mean(tran_coef_after)\n",
    "infection_factor = np.log(infection_factor)\n",
    "infection_factor"
   ]
  },
  {
   "cell_type": "code",
   "execution_count": 4,
   "metadata": {},
   "outputs": [],
   "source": [
    "params_jan27 = pkl.load(\n",
    "    open('output/params_after_lockdown.pkl', 'rb')\n",
    ")"
   ]
  },
  {
   "cell_type": "code",
   "execution_count": 5,
   "metadata": {},
   "outputs": [
    {
     "data": {
      "text/plain": [
       "total_population: 9000000\n",
       "initial_num_E: 5000.0\n",
       "initial_num_I: 5000\n",
       "initial_num_M: 4000.0\n",
       "\n",
       "alpha: 1.5999999999999998e-08\n",
       "beta:  1.8e-09\n",
       "\n",
       "mu_ei: 6\n",
       "mu_mo: 10\n",
       "\n",
       "x0_pt: 12000\n",
       "k_pt:  0.00014931328910233792\n",
       "mean_IM: 7\n",
       "\n",
       "k_days: 14\n",
       "        "
      ]
     },
     "execution_count": 5,
     "metadata": {},
     "output_type": "execute_result"
    }
   ],
   "source": [
    "params_jan27"
   ]
  },
  {
   "cell_type": "code",
   "execution_count": 6,
   "metadata": {},
   "outputs": [
    {
     "data": {
      "text/plain": [
       "datetime.datetime(2020, 1, 23, 0, 0)"
      ]
     },
     "execution_count": 6,
     "metadata": {},
     "output_type": "execute_result"
    }
   ],
   "source": [
    "lockdown_date = T('23/01/2020')\n",
    "lockdown_date"
   ]
  },
  {
   "cell_type": "code",
   "execution_count": 7,
   "metadata": {},
   "outputs": [
    {
     "data": {
      "text/plain": [
       "(array([5000.]), array([5000]), array([4000.]))"
      ]
     },
     "execution_count": 7,
     "metadata": {},
     "output_type": "execute_result"
    }
   ],
   "source": [
    "target_E = params_jan27.initial_num_E\n",
    "target_I = params_jan27.initial_num_I\n",
    "target_M = params_jan27.initial_num_M\n",
    "\n",
    "actual_I = np.array([target_I])\n",
    "actual_E = np.array([target_E])\n",
    "actual_M = np.array([target_M])\n",
    "\n",
    "actual_E, actual_I, actual_M"
   ]
  },
  {
   "cell_type": "code",
   "execution_count": 11,
   "metadata": {},
   "outputs": [],
   "source": [
    "def prepare_params(t):\n",
    "    p = Params(\n",
    "        alpha=[(0, infection_factor * params_jan27.alpha), (t, params_jan27.alpha)],\n",
    "        beta=[(0, infection_factor * params_jan27.beta), (t, params_jan27.beta)],\n",
    "        stages=[t],\n",
    "        initial_num_E=1,\n",
    "        initial_num_I=0,\n",
    "        initial_num_M=0,\n",
    "        mu_ei=params_jan27.mu_ei,\n",
    "        mu_mo=params_jan27.mu_mo,\n",
    "        x0_pt=params_jan27.x0_pt,\n",
    "        k_days=params_jan27.k_days\n",
    "    )\n",
    "    return p\n",
    "        "
   ]
  },
  {
   "cell_type": "code",
   "execution_count": 12,
   "metadata": {},
   "outputs": [],
   "source": [
    "bed_info = [(0, 3000)]\n",
    "def one_run(t):\n",
    "    params = prepare_params(t)\n",
    "    # t days **before** lockdown (Jan 23)\n",
    "    # simulation finishes at Jan 27 (after lockdown for 5 days)\n",
    "    # t=1, 2, 3, ... means patient zero  appeared in Jan 22, 21, 20\n",
    "    p0_time = lockdown_date - timedelta(days=t)\n",
    "    \n",
    "    total, _, _, _, stats = do_simulation(\n",
    "        t+5, bed_info, params, p0_time=p0_time,\n",
    "        verbose=0\n",
    "    )\n",
    "    \n",
    "    pred_I = np.array([total[-1, STATE.I]])\n",
    "    pred_E = np.array([total[-1, STATE.E]])\n",
    "    pred_M = np.array([total[-1, STATE.M]])\n",
    "    \n",
    "    mse_I = mean_absolute_error(actual_I,  pred_I)\n",
    "    mse_E = mean_absolute_error(actual_E, pred_E)\n",
    "    mse_M = mean_absolute_error(actual_M, pred_M)\n",
    "    mse_IM = mean_absolute_error(actual_M + actual_I, pred_M + pred_I)\n",
    "    mse_IEM = mean_absolute_error(actual_I + actual_E + actual_M,  pred_I + pred_E + pred_M)\n",
    "    return (t, actual_I[0], pred_I[0], mse_I, mse_E, mse_M, mse_IM, mse_IEM, stats)"
   ]
  },
  {
   "cell_type": "code",
   "execution_count": 13,
   "metadata": {
    "scrolled": true
   },
   "outputs": [
    {
     "name": "stderr",
     "output_type": "stream",
     "text": [
      "100%|██████████| 31/31 [00:04<00:00,  6.25it/s]\n"
     ]
    }
   ],
   "source": [
    "# t is the number of days back\n",
    "rows = Parallel(n_jobs=-1)(delayed(one_run)(t) for t in tqdm(range(30, 61)))"
   ]
  },
  {
   "cell_type": "code",
   "execution_count": 14,
   "metadata": {},
   "outputs": [],
   "source": [
    "df = pd.DataFrame(rows, columns=('t', 'actual_I', 'pred_I', 'mse_I', 'mse_E', 'mse_M', 'mse_IM', 'mse_IEM', 'r0_info'))"
   ]
  },
  {
   "cell_type": "code",
   "execution_count": 15,
   "metadata": {},
   "outputs": [
    {
     "data": {
      "text/html": [
       "<div>\n",
       "<style scoped>\n",
       "    .dataframe tbody tr th:only-of-type {\n",
       "        vertical-align: middle;\n",
       "    }\n",
       "\n",
       "    .dataframe tbody tr th {\n",
       "        vertical-align: top;\n",
       "    }\n",
       "\n",
       "    .dataframe thead th {\n",
       "        text-align: right;\n",
       "    }\n",
       "</style>\n",
       "<table border=\"1\" class=\"dataframe\">\n",
       "  <thead>\n",
       "    <tr style=\"text-align: right;\">\n",
       "      <th></th>\n",
       "      <th>t</th>\n",
       "      <th>actual_I</th>\n",
       "      <th>pred_I</th>\n",
       "      <th>mse_I</th>\n",
       "      <th>mse_E</th>\n",
       "      <th>mse_M</th>\n",
       "      <th>mse_IM</th>\n",
       "      <th>mse_IEM</th>\n",
       "      <th>r0_info</th>\n",
       "    </tr>\n",
       "  </thead>\n",
       "  <tbody>\n",
       "    <tr>\n",
       "      <th>23</th>\n",
       "      <td>53</td>\n",
       "      <td>5000</td>\n",
       "      <td>5044.748507</td>\n",
       "      <td>44.748507</td>\n",
       "      <td>1552.612290</td>\n",
       "      <td>1000.000000</td>\n",
       "      <td>955.251493</td>\n",
       "      <td>597.360797</td>\n",
       "      <td>{'R0_by_stage': {0: (5.1215123171320585, 3.150...</td>\n",
       "    </tr>\n",
       "    <tr>\n",
       "      <th>22</th>\n",
       "      <td>52</td>\n",
       "      <td>5000</td>\n",
       "      <td>3885.334894</td>\n",
       "      <td>1114.665106</td>\n",
       "      <td>558.921346</td>\n",
       "      <td>1062.156712</td>\n",
       "      <td>2176.821818</td>\n",
       "      <td>1617.900472</td>\n",
       "      <td>{'R0_by_stage': {0: (5.121544198771868, 3.1398...</td>\n",
       "    </tr>\n",
       "    <tr>\n",
       "      <th>24</th>\n",
       "      <td>54</td>\n",
       "      <td>5000</td>\n",
       "      <td>6687.138370</td>\n",
       "      <td>1687.138370</td>\n",
       "      <td>2731.283735</td>\n",
       "      <td>1201.733980</td>\n",
       "      <td>485.404390</td>\n",
       "      <td>3216.688125</td>\n",
       "      <td>{'R0_by_stage': {0: (5.121466025584044, 3.1624...</td>\n",
       "    </tr>\n",
       "    <tr>\n",
       "      <th>21</th>\n",
       "      <td>51</td>\n",
       "      <td>5000</td>\n",
       "      <td>3243.199885</td>\n",
       "      <td>1756.800115</td>\n",
       "      <td>283.687985</td>\n",
       "      <td>1455.399054</td>\n",
       "      <td>3212.199168</td>\n",
       "      <td>3495.887153</td>\n",
       "      <td>{'R0_by_stage': {0: (5.121562154320443, 3.1307...</td>\n",
       "    </tr>\n",
       "    <tr>\n",
       "      <th>20</th>\n",
       "      <td>50</td>\n",
       "      <td>5000</td>\n",
       "      <td>2712.188405</td>\n",
       "      <td>2287.811595</td>\n",
       "      <td>998.276604</td>\n",
       "      <td>1802.128329</td>\n",
       "      <td>4089.939924</td>\n",
       "      <td>5088.216527</td>\n",
       "      <td>{'R0_by_stage': {0: (5.121566395321335, 3.1230...</td>\n",
       "    </tr>\n",
       "    <tr>\n",
       "      <th>19</th>\n",
       "      <td>49</td>\n",
       "      <td>5000</td>\n",
       "      <td>2272.050067</td>\n",
       "      <td>2727.949933</td>\n",
       "      <td>1604.367105</td>\n",
       "      <td>2106.228703</td>\n",
       "      <td>4834.178636</td>\n",
       "      <td>6438.545741</td>\n",
       "      <td>{'R0_by_stage': {0: (5.121556838562287, 3.1163...</td>\n",
       "    </tr>\n",
       "    <tr>\n",
       "      <th>18</th>\n",
       "      <td>48</td>\n",
       "      <td>5000</td>\n",
       "      <td>1906.385945</td>\n",
       "      <td>3093.614055</td>\n",
       "      <td>2118.489290</td>\n",
       "      <td>2371.707795</td>\n",
       "      <td>5465.321850</td>\n",
       "      <td>7583.811140</td>\n",
       "      <td>{'R0_by_stage': {0: (5.121533083188067, 3.1105...</td>\n",
       "    </tr>\n",
       "    <tr>\n",
       "      <th>25</th>\n",
       "      <td>55</td>\n",
       "      <td>5000</td>\n",
       "      <td>8184.867009</td>\n",
       "      <td>3184.867009</td>\n",
       "      <td>4132.860163</td>\n",
       "      <td>1000.000000</td>\n",
       "      <td>2184.867009</td>\n",
       "      <td>6317.727172</td>\n",
       "      <td>{'R0_by_stage': {0: (5.121404593397314, 3.1765...</td>\n",
       "    </tr>\n",
       "    <tr>\n",
       "      <th>17</th>\n",
       "      <td>47</td>\n",
       "      <td>5000</td>\n",
       "      <td>1601.907769</td>\n",
       "      <td>3398.092231</td>\n",
       "      <td>2554.641722</td>\n",
       "      <td>2602.539226</td>\n",
       "      <td>6000.631457</td>\n",
       "      <td>8555.273178</td>\n",
       "      <td>{'R0_by_stage': {0: (5.121494384772303, 3.1055...</td>\n",
       "    </tr>\n",
       "    <tr>\n",
       "      <th>16</th>\n",
       "      <td>46</td>\n",
       "      <td>5000</td>\n",
       "      <td>1347.832039</td>\n",
       "      <td>3652.167961</td>\n",
       "      <td>2924.681901</td>\n",
       "      <td>2802.547335</td>\n",
       "      <td>6454.715296</td>\n",
       "      <td>9379.397197</td>\n",
       "      <td>{'R0_by_stage': {0: (5.12143962412649, 3.10124...</td>\n",
       "    </tr>\n",
       "  </tbody>\n",
       "</table>\n",
       "</div>"
      ],
      "text/plain": [
       "     t  actual_I       pred_I        mse_I        mse_E        mse_M  \\\n",
       "23  53      5000  5044.748507    44.748507  1552.612290  1000.000000   \n",
       "22  52      5000  3885.334894  1114.665106   558.921346  1062.156712   \n",
       "24  54      5000  6687.138370  1687.138370  2731.283735  1201.733980   \n",
       "21  51      5000  3243.199885  1756.800115   283.687985  1455.399054   \n",
       "20  50      5000  2712.188405  2287.811595   998.276604  1802.128329   \n",
       "19  49      5000  2272.050067  2727.949933  1604.367105  2106.228703   \n",
       "18  48      5000  1906.385945  3093.614055  2118.489290  2371.707795   \n",
       "25  55      5000  8184.867009  3184.867009  4132.860163  1000.000000   \n",
       "17  47      5000  1601.907769  3398.092231  2554.641722  2602.539226   \n",
       "16  46      5000  1347.832039  3652.167961  2924.681901  2802.547335   \n",
       "\n",
       "         mse_IM      mse_IEM  \\\n",
       "23   955.251493   597.360797   \n",
       "22  2176.821818  1617.900472   \n",
       "24   485.404390  3216.688125   \n",
       "21  3212.199168  3495.887153   \n",
       "20  4089.939924  5088.216527   \n",
       "19  4834.178636  6438.545741   \n",
       "18  5465.321850  7583.811140   \n",
       "25  2184.867009  6317.727172   \n",
       "17  6000.631457  8555.273178   \n",
       "16  6454.715296  9379.397197   \n",
       "\n",
       "                                              r0_info  \n",
       "23  {'R0_by_stage': {0: (5.1215123171320585, 3.150...  \n",
       "22  {'R0_by_stage': {0: (5.121544198771868, 3.1398...  \n",
       "24  {'R0_by_stage': {0: (5.121466025584044, 3.1624...  \n",
       "21  {'R0_by_stage': {0: (5.121562154320443, 3.1307...  \n",
       "20  {'R0_by_stage': {0: (5.121566395321335, 3.1230...  \n",
       "19  {'R0_by_stage': {0: (5.121556838562287, 3.1163...  \n",
       "18  {'R0_by_stage': {0: (5.121533083188067, 3.1105...  \n",
       "25  {'R0_by_stage': {0: (5.121404593397314, 3.1765...  \n",
       "17  {'R0_by_stage': {0: (5.121494384772303, 3.1055...  \n",
       "16  {'R0_by_stage': {0: (5.12143962412649, 3.10124...  "
      ]
     },
     "execution_count": 15,
     "metadata": {},
     "output_type": "execute_result"
    }
   ],
   "source": [
    "df.sort_values(by='mse_I').head(10)"
   ]
  },
  {
   "cell_type": "code",
   "execution_count": 16,
   "metadata": {
    "scrolled": true
   },
   "outputs": [
    {
     "name": "stdout",
     "output_type": "stream",
     "text": [
      "2019-11-29 00:00:00\n"
     ]
    }
   ],
   "source": [
    "best_t = int(df.sort_values(by='mse_IM').iloc[0].t)\n",
    "p0_time = T('22/01/2020') - timedelta(days=best_t)\n",
    "print(p0_time)"
   ]
  },
  {
   "cell_type": "code",
   "execution_count": 4,
   "metadata": {},
   "outputs": [],
   "source": [
    "makedir_if_not_there('output/tbl/p0-time/')"
   ]
  },
  {
   "cell_type": "code",
   "execution_count": 17,
   "metadata": {},
   "outputs": [],
   "source": [
    "df.to_csv('output/tbl/p0-time/error.csv', index=False)"
   ]
  },
  {
   "cell_type": "code",
   "execution_count": 18,
   "metadata": {},
   "outputs": [],
   "source": [
    "pkl.dump(p0_time, open('output/p0_time.pkl', 'wb'))"
   ]
  },
  {
   "cell_type": "code",
   "execution_count": 19,
   "metadata": {},
   "outputs": [],
   "source": [
    "params = copy(params_jan27)\n",
    "params.alpha = infection_factor * params.alpha\n",
    "params.beta = infection_factor * params.beta\n",
    "params.initial_num_E = 1\n",
    "params.initial_num_I = 0\n",
    "params.initial_num_M = 0\n",
    "\n",
    "    \n",
    "total, delta, increase, trans, stats = do_simulation(best_t, bed_info, params, verbose=0,  p0_time=p0_time)"
   ]
  },
  {
   "cell_type": "code",
   "execution_count": 5,
   "metadata": {},
   "outputs": [],
   "source": [
    "makedir_if_not_there('output/tbl/before-lockdown/')"
   ]
  },
  {
   "cell_type": "code",
   "execution_count": 20,
   "metadata": {},
   "outputs": [],
   "source": [
    "save_bundle([total, delta, increase, trans], p0_time, best_t, 'output/tbl/before-lockdown')\n",
    "save_to_json(stats, 'output/tbl/before-lockdown/stat.txt')"
   ]
  },
  {
   "cell_type": "code",
   "execution_count": 21,
   "metadata": {},
   "outputs": [],
   "source": [
    "pkl.dump(\n",
    "    params,\n",
    "    open('output/params_before_lockdown.pkl', 'wb')\n",
    ")"
   ]
  },
  {
   "cell_type": "code",
   "execution_count": 22,
   "metadata": {},
   "outputs": [
    {
     "name": "stderr",
     "output_type": "stream",
     "text": [
      "/home/cloud-user/code/covid-19/helpers.py:287: SettingWithCopyWarning: \n",
      "A value is trying to be set on a copy of a slice from a DataFrame.\n",
      "Try using .loc[row_indexer,col_indexer] = value instead\n",
      "\n",
      "See the caveats in the documentation: http://pandas.pydata.org/pandas-docs/stable/user_guide/indexing.html#returning-a-view-versus-a-copy\n",
      "  subdf['index'] = df.index\n",
      "/home/cloud-user/code/covid-19/helpers.py:288: SettingWithCopyWarning: \n",
      "A value is trying to be set on a copy of a slice from a DataFrame.\n",
      "Try using .loc[row_indexer,col_indexer] = value instead\n",
      "\n",
      "See the caveats in the documentation: http://pandas.pydata.org/pandas-docs/stable/user_guide/indexing.html#returning-a-view-versus-a-copy\n",
      "  subdf['value'] = subdf[state].copy()\n",
      "/home/cloud-user/code/covid-19/helpers.py:290: SettingWithCopyWarning: \n",
      "A value is trying to be set on a copy of a slice from a DataFrame.\n",
      "Try using .loc[row_indexer,col_indexer] = value instead\n",
      "\n",
      "See the caveats in the documentation: http://pandas.pydata.org/pandas-docs/stable/user_guide/indexing.html#returning-a-view-versus-a-copy\n",
      "  subdf['state'] = state\n"
     ]
    },
    {
     "name": "stdout",
     "output_type": "stream",
     "text": [
      "['29/11/19' '10/12/19' '21/12/19' '01/01/20' '12/01/20']\n"
     ]
    },
    {
     "data": {
      "image/png": "[encoded data removed]",
      "text/plain": [
       "<Figure size 432x288 with 1 Axes>"
      ]
     },
     "metadata": {},
     "output_type": "display_data"
    }
   ],
   "source": [
    "fig, ax = plot_total(total, p0_time, best_t)\n",
    "fig.savefig('figs/before-lockdown.pdf')"
   ]
  }
 ],
 "metadata": {
  "kernelspec": {
   "display_name": "Python 3",
   "language": "python",
   "name": "python3"
  },
  "language_info": {
   "codemirror_mode": {
    "name": "ipython",
    "version": 3
   },
   "file_extension": ".py",
   "mimetype": "text/x-python",
   "name": "python",
   "nbconvert_exporter": "python",
   "pygments_lexer": "ipython3",
   "version": "3.6.10"
  }
 },
 "nbformat": 4,
 "nbformat_minor": 2
}
